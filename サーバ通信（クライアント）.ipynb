{
 "cells": [
  {
   "cell_type": "code",
   "execution_count": 5,
   "metadata": {
    "ExecuteTime": {
     "end_time": "2018-08-23T09:07:07.859210Z",
     "start_time": "2018-08-23T09:07:07.833278Z"
    }
   },
   "outputs": [],
   "source": [
    "# -*- coding: utf-8 -*-\n",
    "import socket\n",
    "\n",
    "def main():\n",
    "    soc = socket.socket(socket.AF_INET, socket.SOCK_STREAM)\n",
    "    soc.connect((\"localhost\", 50007))\n",
    "\n",
    "    while(1):\n",
    "        data = soc.recv(1024)\n",
    "        print(\"Server>\", data.decode('utf-8'))      # サーバー側の書き込みを表示\n",
    "        if data == b'Client1 quited' or data == b'Client2 quited':\n",
    "            soc.close()\n",
    "            break\n",
    "\n",
    "        data = input(\"Client>\") # 入力待機\n",
    "        soc.send(bytes(data,encoding='utf-8')) # ソケットに入力したデータを送信\n",
    "\n",
    "        if data == \"q\":             # qが押されたら終了\n",
    "            soc.close()\n",
    "            break"
   ]
  },
  {
   "cell_type": "code",
   "execution_count": 6,
   "metadata": {
    "ExecuteTime": {
     "end_time": "2018-08-23T09:07:40.489577Z",
     "start_time": "2018-08-23T09:07:08.059979Z"
    }
   },
   "outputs": [
    {
     "name": "stdout",
     "output_type": "stream",
     "text": [
      "Server> ちゃっとすたーと\n",
      "Client>よろしくぅ\n",
      "Server> ((☛(◜◔。◔◝)☚)) ここ大丈夫ですか〜〜〜〜〜??????????\n",
      "Client>は？\n",
      "Server> ヒエッ…\n",
      "Client>q\n"
     ]
    }
   ],
   "source": [
    "main()"
   ]
  },
  {
   "cell_type": "code",
   "execution_count": 7,
   "metadata": {
    "ExecuteTime": {
     "end_time": "2018-08-23T09:39:02.556729Z",
     "start_time": "2018-08-23T09:38:56.582777Z"
    }
   },
   "outputs": [
    {
     "name": "stdout",
     "output_type": "stream",
     "text": [
      "Server> Client1 quited\n"
     ]
    }
   ],
   "source": [
    "import client\n",
    "client.client()"
   ]
  },
  {
   "cell_type": "markdown",
   "metadata": {},
   "source": [
    "複数同時"
   ]
  },
  {
   "cell_type": "code",
   "execution_count": 1,
   "metadata": {
    "ExecuteTime": {
     "end_time": "2018-08-28T03:02:50.357365Z",
     "start_time": "2018-08-28T03:02:07.940845Z"
    },
    "scrolled": true
   },
   "outputs": [
    {
     "name": "stdout",
     "output_type": "stream",
     "text": [
      ">>>テスト\n",
      "[受信: Client 0]テスト\n",
      "[受信: Client 1]てｓつお\n",
      ">>>exit\n"
     ]
    }
   ],
   "source": [
    "import socket\n",
    "import threading\n",
    "\n",
    "\n",
    "HOST = '127.0.0.1' # localhost\n",
    "PORT = 9998\n",
    "\n",
    " \n",
    "def input_msg_roop(sock):\n",
    "    \"\"\"メッセージ入力を促し、サーバに送信する\"\"\"\n",
    " \n",
    "    while True:\n",
    "        msg = input('>>>')\n",
    "        if msg == 'exit':\n",
    "            break\n",
    "        elif msg:\n",
    "            sock.send(msg.encode('utf-8'))\n",
    " \n",
    " \n",
    "def client_start():\n",
    "    \"\"\"クライアントのスタート\"\"\"\n",
    " \n",
    "    sock = socket.socket(socket.AF_INET, socket.SOCK_STREAM)\n",
    "    sock.connect((HOST, PORT))\n",
    "    \n",
    "    # 通常の接続であることを通知\n",
    "    sock.send(b'regular connection')\n",
    "    \n",
    "    handle_thread = threading.Thread(target=handler, args=(sock,), daemon=True)\n",
    "    handle_thread.start()\n",
    "    try:\n",
    "        input_msg_roop(sock)\n",
    "    finally:\n",
    "        sock.close()\n",
    " \n",
    " \n",
    "def handler(sock):\n",
    "    \"\"\"サーバからメッセージを受信し、表示する\"\"\"\n",
    " \n",
    "    try:\n",
    "        while True:\n",
    "            data = sock.recv(1024)\n",
    "            #print(\"[受信]{}\".format(data.decode(\"utf-8\")))\n",
    "            # NEW dataformat\n",
    "            # [client_id]c[data]\n",
    "            # e.g. from ID 24, data is 'Hello' then\n",
    "            # 24cHello\n",
    "            datalist = data.split(b'c')\n",
    "            client_id = int(datalist[0].decode('utf-8'))\n",
    "            true_data = b''.join(datalist[1:])\n",
    "            print(\"[受信: Client{:2}]{}\".format(client_id, true_data.decode(\"utf-8\")))\n",
    "    except ConnectionAbortedError:\n",
    "        pass\n",
    "    #except ConnectionResetError:\n",
    "    #    print ('サーバーが死んだっぽいです')\n",
    "\n",
    "if __name__ == \"__main__\":\n",
    "    client_start()"
   ]
  },
  {
   "cell_type": "markdown",
   "metadata": {},
   "source": [
    "サーバー終了要求"
   ]
  },
  {
   "cell_type": "code",
   "execution_count": 4,
   "metadata": {
    "ExecuteTime": {
     "end_time": "2018-08-24T07:33:43.218406Z",
     "start_time": "2018-08-24T07:33:43.213389Z"
    }
   },
   "outputs": [],
   "source": [
    "import socket\n",
    "HOST = '127.0.0.1' # localhost\n",
    "PORT = 9998"
   ]
  },
  {
   "cell_type": "code",
   "execution_count": 2,
   "metadata": {
    "ExecuteTime": {
     "end_time": "2018-08-28T03:02:52.867785Z",
     "start_time": "2018-08-28T03:02:52.829884Z"
    },
    "code_folding": []
   },
   "outputs": [
    {
     "data": {
      "text/plain": [
       "'accept'"
      ]
     },
     "execution_count": 2,
     "metadata": {},
     "output_type": "execute_result"
    }
   ],
   "source": [
    "def shutdown_server():\n",
    "    sock = socket.socket(socket.AF_INET, socket.SOCK_STREAM)\n",
    "    sock.connect((HOST, PORT))\n",
    "    #sock.send(b'server shutdown')\n",
    "    sock.send(b'server shutdown, force')\n",
    "    data = sock.recv(1024)\n",
    "    sock.close()\n",
    "    return data.decode()\n",
    "shutdown_server()"
   ]
  },
  {
   "cell_type": "code",
   "execution_count": null,
   "metadata": {},
   "outputs": [],
   "source": []
  }
 ],
 "metadata": {
  "kernelspec": {
   "display_name": "Python 3",
   "language": "python",
   "name": "python3"
  },
  "language_info": {
   "codemirror_mode": {
    "name": "ipython",
    "version": 3
   },
   "file_extension": ".py",
   "mimetype": "text/x-python",
   "name": "python",
   "nbconvert_exporter": "python",
   "pygments_lexer": "ipython3",
   "version": "3.6.4"
  }
 },
 "nbformat": 4,
 "nbformat_minor": 2
}
