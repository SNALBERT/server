{
 "cells": [
  {
   "cell_type": "code",
   "execution_count": 5,
   "metadata": {
    "ExecuteTime": {
     "end_time": "2018-08-23T09:07:09.082415Z",
     "start_time": "2018-08-23T09:07:09.058445Z"
    }
   },
   "outputs": [],
   "source": [
    "# -*- coding: utf-8 -*-\n",
    "import socket\n",
    "\n",
    "def main():\n",
    "    soc = socket.socket(socket.AF_INET, socket.SOCK_STREAM)\n",
    "    soc.connect((\"localhost\", 50007))\n",
    "\n",
    "    while(1):\n",
    "        data = soc.recv(1024)\n",
    "        print(\"Server>\", data.decode('utf-8'))      # サーバー側の書き込みを表示\n",
    "        if data == b'Client1 quited' or data == b'Client2 quited':\n",
    "            soc.close()\n",
    "            break\n",
    "\n",
    "        data = input(\"Client>\") # 入力待機\n",
    "        soc.send(bytes(data,encoding='utf-8')) # ソケットに入力したデータを送信\n",
    "\n",
    "        if data == \"q\":             # qが押されたら終了\n",
    "            soc.close()\n",
    "            break"
   ]
  },
  {
   "cell_type": "code",
   "execution_count": 6,
   "metadata": {
    "ExecuteTime": {
     "end_time": "2018-08-23T09:07:40.492582Z",
     "start_time": "2018-08-23T09:07:09.421004Z"
    }
   },
   "outputs": [
    {
     "name": "stdout",
     "output_type": "stream",
     "text": [
      "Server> よろしくぅ\n",
      "Client>((☛(◜◔。◔◝)☚)) ここ大丈夫ですか〜〜〜〜〜??????????\n",
      "Server> は？\n",
      "Client>ヒエッ…\n",
      "Server> Client1 quited\n"
     ]
    }
   ],
   "source": [
    "main()"
   ]
  },
  {
   "cell_type": "code",
   "execution_count": null,
   "metadata": {},
   "outputs": [],
   "source": []
  },
  {
   "cell_type": "code",
   "execution_count": 8,
   "metadata": {
    "ExecuteTime": {
     "end_time": "2018-08-23T09:38:17.879043Z",
     "start_time": "2018-08-23T09:38:17.876030Z"
    }
   },
   "outputs": [],
   "source": [
    "import client"
   ]
  },
  {
   "cell_type": "code",
   "execution_count": 10,
   "metadata": {
    "ExecuteTime": {
     "end_time": "2018-08-23T09:39:02.554734Z",
     "start_time": "2018-08-23T09:38:43.046179Z"
    }
   },
   "outputs": [
    {
     "name": "stdout",
     "output_type": "stream",
     "text": [
      "Server> ちゃっとすたーと\n",
      "Client>q\n"
     ]
    }
   ],
   "source": [
    "client.client()"
   ]
  },
  {
   "cell_type": "markdown",
   "metadata": {},
   "source": [
    "複数同時"
   ]
  },
  {
   "cell_type": "code",
   "execution_count": 1,
   "metadata": {
    "ExecuteTime": {
     "end_time": "2018-08-28T03:02:56.430952Z",
     "start_time": "2018-08-28T03:02:23.884064Z"
    }
   },
   "outputs": [
    {
     "name": "stdout",
     "output_type": "stream",
     "text": [
      "[受信: Client 0]テスト\n",
      ">>>てｓつお\n",
      "[受信: Client 1]てｓつお\n"
     ]
    },
    {
     "name": "stderr",
     "output_type": "stream",
     "text": [
      "Exception in thread Thread-6:\n",
      "Traceback (most recent call last):\n",
      "  File \"C:\\Users\\sosuke_nakada\\Anaconda3\\lib\\threading.py\", line 916, in _bootstrap_inner\n",
      "    self.run()\n",
      "  File \"C:\\Users\\sosuke_nakada\\Anaconda3\\lib\\threading.py\", line 864, in run\n",
      "    self._target(*self._args, **self._kwargs)\n",
      "  File \"<ipython-input-1-2c47f67cc366>\", line 42, in handler\n",
      "    data = sock.recv(1024)\n",
      "ConnectionResetError: [WinError 10054] 既存の接続はリモート ホストに強制的に切断されました。\n",
      "\n"
     ]
    },
    {
     "name": "stdout",
     "output_type": "stream",
     "text": [
      ">>>x\n"
     ]
    },
    {
     "ename": "ConnectionResetError",
     "evalue": "[WinError 10054] 既存の接続はリモート ホストに強制的に切断されました。",
     "output_type": "error",
     "traceback": [
      "\u001b[1;31m---------------------------------------------------------------------------\u001b[0m",
      "\u001b[1;31mConnectionResetError\u001b[0m                      Traceback (most recent call last)",
      "\u001b[1;32m<ipython-input-1-2c47f67cc366>\u001b[0m in \u001b[0;36m<module>\u001b[1;34m()\u001b[0m\n\u001b[0;32m     56\u001b[0m \u001b[1;33m\u001b[0m\u001b[0m\n\u001b[0;32m     57\u001b[0m \u001b[1;32mif\u001b[0m \u001b[0m__name__\u001b[0m \u001b[1;33m==\u001b[0m \u001b[1;34m\"__main__\"\u001b[0m\u001b[1;33m:\u001b[0m\u001b[1;33m\u001b[0m\u001b[0m\n\u001b[1;32m---> 58\u001b[1;33m     \u001b[0mclient_start\u001b[0m\u001b[1;33m(\u001b[0m\u001b[1;33m)\u001b[0m\u001b[1;33m\u001b[0m\u001b[0m\n\u001b[0m",
      "\u001b[1;32m<ipython-input-1-2c47f67cc366>\u001b[0m in \u001b[0;36mclient_start\u001b[1;34m()\u001b[0m\n\u001b[0;32m     30\u001b[0m     \u001b[0mhandle_thread\u001b[0m\u001b[1;33m.\u001b[0m\u001b[0mstart\u001b[0m\u001b[1;33m(\u001b[0m\u001b[1;33m)\u001b[0m\u001b[1;33m\u001b[0m\u001b[0m\n\u001b[0;32m     31\u001b[0m     \u001b[1;32mtry\u001b[0m\u001b[1;33m:\u001b[0m\u001b[1;33m\u001b[0m\u001b[0m\n\u001b[1;32m---> 32\u001b[1;33m         \u001b[0minput_msg_roop\u001b[0m\u001b[1;33m(\u001b[0m\u001b[0msock\u001b[0m\u001b[1;33m)\u001b[0m\u001b[1;33m\u001b[0m\u001b[0m\n\u001b[0m\u001b[0;32m     33\u001b[0m     \u001b[1;32mfinally\u001b[0m\u001b[1;33m:\u001b[0m\u001b[1;33m\u001b[0m\u001b[0m\n\u001b[0;32m     34\u001b[0m         \u001b[0msock\u001b[0m\u001b[1;33m.\u001b[0m\u001b[0mclose\u001b[0m\u001b[1;33m(\u001b[0m\u001b[1;33m)\u001b[0m\u001b[1;33m\u001b[0m\u001b[0m\n",
      "\u001b[1;32m<ipython-input-1-2c47f67cc366>\u001b[0m in \u001b[0;36minput_msg_roop\u001b[1;34m(sock)\u001b[0m\n\u001b[0;32m     15\u001b[0m             \u001b[1;32mbreak\u001b[0m\u001b[1;33m\u001b[0m\u001b[0m\n\u001b[0;32m     16\u001b[0m         \u001b[1;32melif\u001b[0m \u001b[0mmsg\u001b[0m\u001b[1;33m:\u001b[0m\u001b[1;33m\u001b[0m\u001b[0m\n\u001b[1;32m---> 17\u001b[1;33m             \u001b[0msock\u001b[0m\u001b[1;33m.\u001b[0m\u001b[0msend\u001b[0m\u001b[1;33m(\u001b[0m\u001b[0mmsg\u001b[0m\u001b[1;33m.\u001b[0m\u001b[0mencode\u001b[0m\u001b[1;33m(\u001b[0m\u001b[1;34m'utf-8'\u001b[0m\u001b[1;33m)\u001b[0m\u001b[1;33m)\u001b[0m\u001b[1;33m\u001b[0m\u001b[0m\n\u001b[0m\u001b[0;32m     18\u001b[0m \u001b[1;33m\u001b[0m\u001b[0m\n\u001b[0;32m     19\u001b[0m \u001b[1;33m\u001b[0m\u001b[0m\n",
      "\u001b[1;31mConnectionResetError\u001b[0m: [WinError 10054] 既存の接続はリモート ホストに強制的に切断されました。"
     ]
    }
   ],
   "source": [
    "import socket\n",
    "import threading\n",
    "\n",
    "\n",
    "HOST = '127.0.0.1' # localhost\n",
    "PORT = 9998\n",
    "\n",
    " \n",
    "def input_msg_roop(sock):\n",
    "    \"\"\"メッセージ入力を促し、サーバに送信する\"\"\"\n",
    " \n",
    "    while True:\n",
    "        msg = input('>>>')\n",
    "        if msg == 'exit':\n",
    "            break\n",
    "        elif msg:\n",
    "            sock.send(msg.encode('utf-8'))\n",
    " \n",
    " \n",
    "def client_start():\n",
    "    \"\"\"クライアントのスタート\"\"\"\n",
    " \n",
    "    sock = socket.socket(socket.AF_INET, socket.SOCK_STREAM)\n",
    "    sock.connect((HOST, PORT))\n",
    "    \n",
    "    # 通常の接続であることを通知\n",
    "    sock.send(b'regular connection')\n",
    "    \n",
    "    handle_thread = threading.Thread(target=handler, args=(sock,), daemon=True)\n",
    "    handle_thread.start()\n",
    "    try:\n",
    "        input_msg_roop(sock)\n",
    "    finally:\n",
    "        sock.close()\n",
    " \n",
    " \n",
    "def handler(sock):\n",
    "    \"\"\"サーバからメッセージを受信し、表示する\"\"\"\n",
    " \n",
    "    try:\n",
    "        while True:\n",
    "            data = sock.recv(1024)\n",
    "            #print(\"[受信]{}\".format(data.decode(\"utf-8\")))\n",
    "            # NEW dataformat\n",
    "            # [client_id]c[data]\n",
    "            # e.g. from ID 24, data is 'Hello' then\n",
    "            # 24cHello\n",
    "            datalist = data.split(b'c')\n",
    "            client_id = int(datalist[0].decode('utf-8'))\n",
    "            true_data = b''.join(datalist[1:])\n",
    "            print(\"[受信: Client{:2}]{}\".format(client_id, true_data.decode(\"utf-8\")))\n",
    "    except ConnectionAbortedError:\n",
    "        pass\n",
    "    #except ConnectionResetError:\n",
    "    #    print ('サーバーが死んだっぽいです')\n",
    "\n",
    "if __name__ == \"__main__\":\n",
    "    client_start()"
   ]
  },
  {
   "cell_type": "code",
   "execution_count": null,
   "metadata": {},
   "outputs": [],
   "source": []
  }
 ],
 "metadata": {
  "kernelspec": {
   "display_name": "Python 3",
   "language": "python",
   "name": "python3"
  }
 },
 "nbformat": 4,
 "nbformat_minor": 2
}
