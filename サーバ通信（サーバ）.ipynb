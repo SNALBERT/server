{
 "cells": [
  {
   "cell_type": "code",
   "execution_count": 1,
   "metadata": {
    "ExecuteTime": {
     "end_time": "2018-08-27T09:36:54.036408Z",
     "start_time": "2018-08-27T09:36:53.960109Z"
    }
   },
   "outputs": [],
   "source": [
    "# -*- coding: utf-8 -*-\n",
    "import socket\n",
    "\n",
    "def main():\n",
    "    s = socket.socket(socket.AF_INET, socket.SOCK_STREAM)\n",
    "    s.bind((\"localhost\", 50007))    # 指定したホスト(IP)とポートをソケットに設定\n",
    "\n",
    "    s.listen(2)                     # 2つの接続要求を待つ\n",
    "    \n",
    "    while(1):\n",
    "        soc1, addr1 = s.accept()          # 要求が来るまでブロック\n",
    "        print(\"1st: Conneted by\"+str(addr1))  #サーバ側の合図\n",
    "\n",
    "        soc2, addr2 = s.accept()          # 要求が来るまでブロック\n",
    "        print(\"2nd: Conneted by\"+str(addr2))  #サーバ側の合図\n",
    "\n",
    "        data = bytes('ちゃっとすたーと', encoding='utf-8')\n",
    "        while (1):\n",
    "            \n",
    "            soc1.send(data)              # ソケットにデータを送信\n",
    "            data = soc1.recv(1024)       # データを受信（1024バイトまで）\n",
    "            print(\"Client1>\",data.decode('utf-8'))       # サーバー側の書き込みを表示\n",
    "            if data == b\"q\":             # qが押されたら終了\n",
    "                soc2.send(b'Client1 quited')              # ソケットにデータを送信\n",
    "                break\n",
    "\n",
    "            soc2.send(data)              # ソケットにデータを送信\n",
    "            data = soc2.recv(1024)       # データを受信（1024バイトまで）\n",
    "            print(\"Client2>\",data.decode('utf-8'))       # サーバー側の書き込みを表示\n",
    "            if data == b'q':             # qが押されたら終了\n",
    "                soc1.send(b'Client2 quited')              # ソケットにデータを送信\n",
    "                break\n",
    "        \n",
    "        soc1.close()\n",
    "        soc2.close()\n",
    "        data = input(\"Server>\")\n",
    "        if data == \"q\": break\n",
    "        "
   ]
  },
  {
   "cell_type": "code",
   "execution_count": null,
   "metadata": {
    "ExecuteTime": {
     "start_time": "2018-08-27T09:37:12.087Z"
    },
    "scrolled": true
   },
   "outputs": [],
   "source": [
    "main()"
   ]
  },
  {
   "cell_type": "markdown",
   "metadata": {},
   "source": [
    "複数同時"
   ]
  },
  {
   "cell_type": "code",
   "execution_count": 1,
   "metadata": {
    "ExecuteTime": {
     "end_time": "2018-08-28T03:02:52.855818Z",
     "start_time": "2018-08-28T03:02:03.580901Z"
    }
   },
   "outputs": [
    {
     "name": "stdout",
     "output_type": "stream",
     "text": [
      "[接続: Client 0]('127.0.0.1', 50976)\n",
      "[接続: Client 1]('127.0.0.1', 51030)\n",
      "[受信: Client 0]('127.0.0.1', 50976) - b'\\xe3\\x83\\x86\\xe3\\x82\\xb9\\xe3\\x83\\x88'\n",
      "[受信: Client 1]('127.0.0.1', 51030) - b'\\xe3\\x81\\xa6\\xef\\xbd\\x93\\xe3\\x81\\xa4\\xe3\\x81\\x8a'\n",
      "[切断: Client 0]('127.0.0.1', 50976)\n",
      "accepted shutdown request\n",
      "[切断: Client 1]('127.0.0.1', 51030)\n"
     ]
    }
   ],
   "source": [
    "import socket\n",
    "import threading\n",
    "\n",
    "HOST = 'localhost'\n",
    "PORT = 9998\n",
    "clients = []\n",
    "\n",
    "def remove_conection(con, address, client_id):\n",
    "    \"\"\"クライアントと接続を切る\"\"\"\n",
    "\n",
    "    print('[切断: Client{:2}]{}'.format(client_id, address))\n",
    "    con.close()\n",
    "    clients.remove((con, address, client_id))\n",
    "\n",
    "\n",
    "def server_start():\n",
    "    \"\"\"サーバをスタートする\"\"\"\n",
    " \n",
    "    sock = socket.socket(socket.AF_INET, socket.SOCK_STREAM)\n",
    "    sock.bind((HOST, PORT))\n",
    "    sock.listen(10)\n",
    "\n",
    "    client_id_counter = 0\n",
    "    while True:\n",
    "        con, address = sock.accept()\n",
    "        \n",
    "        # 通常接続かシャットダウン要求かの判定\n",
    "        data = con.recv(1024)\n",
    "        if b'server shutdown' in data:\n",
    "            if clients != [] and b'force' not in data:\n",
    "                con.sendto(b'reject', address)\n",
    "                con.close()\n",
    "                print('rejected shutdown request')\n",
    "                continue\n",
    "            else:\n",
    "                con.sendto(b'accept', address)\n",
    "                con.close()\n",
    "                print('accepted shutdown request')\n",
    "                break\n",
    "        \n",
    "        print(\"[接続: Client{:2}]{}\".format(client_id_counter, address))\n",
    "        clients.append((con, address, client_id_counter))\n",
    "        handle_thread = threading.Thread(target=handler,\n",
    "                                         args=(con, address, client_id_counter),\n",
    "                                         daemon=True)\n",
    "        handle_thread.start()\n",
    "\n",
    "        client_id_counter += 1\n",
    "        \n",
    "    # jupyter のせいか、 deamon が終了しないので手動で終了\n",
    "    for c in clients:\n",
    "        remove_conection(*c)\n",
    "        \n",
    "    #return 'server shutdown'\n",
    "\n",
    "def handler(con, address, client_id):\n",
    "    \"\"\"クライアントからデータを受信する\"\"\"\n",
    " \n",
    "    try:\n",
    "        while True:\n",
    "            try:\n",
    "                data = con.recv(1024)\n",
    "            except ConnectionResetError:\n",
    "                remove_conection(con, address, client_id)\n",
    "                break\n",
    "            else:\n",
    "                if not data:\n",
    "                    remove_conection(con, address, client_id)\n",
    "                    break\n",
    "                else:\n",
    "                    #data_for_print = data.decode(\"utf-8\")\n",
    "                    #if len(data_for_print) > 100:\n",
    "                    #    data_for_print = data[:100] + '...'\n",
    "                    #print(\"[受信: Client{:2}]{} - {}\".format(client_id, address, data_for_print))\n",
    "                    print(\"[受信: Client{:2}]{} - {}\".format(client_id, address, str(data)))\n",
    "                    for c in clients:\n",
    "                        #c[0].sendto(data, c[1])\n",
    "                        # NEW dataformat\n",
    "                        # [client_id]c[data]\n",
    "                        # e.g. from ID 24, data is 'Hello' then\n",
    "                        # 24cHello\n",
    "                        c[0].sendto(bytes(str(client_id),encoding='utf-8')+b'c'+data, c[1])\n",
    "                    \n",
    "    except ConnectionAbortedError: # クライアントと接続中にサーバー終了要求が来た場合、終了する\n",
    "        pass\n",
    "    \n",
    "if __name__ == \"__main__\":\n",
    "    #server_start()\n",
    "    server_start()"
   ]
  },
  {
   "cell_type": "code",
   "execution_count": 1,
   "metadata": {
    "ExecuteTime": {
     "end_time": "2018-08-24T06:37:44.568990Z",
     "start_time": "2018-08-24T06:37:44.550039Z"
    }
   },
   "outputs": [
    {
     "data": {
      "text/plain": [
       "1"
      ]
     },
     "execution_count": 1,
     "metadata": {},
     "output_type": "execute_result"
    }
   ],
   "source": [
    "1"
   ]
  },
  {
   "cell_type": "code",
   "execution_count": 1,
   "metadata": {
    "ExecuteTime": {
     "end_time": "2018-08-28T01:16:16.813107Z",
     "start_time": "2018-08-28T01:16:16.802135Z"
    }
   },
   "outputs": [
    {
     "data": {
      "text/plain": [
       "'30jd\\x00 asjl'"
      ]
     },
     "execution_count": 1,
     "metadata": {},
     "output_type": "execute_result"
    }
   ],
   "source": []
  },
  {
   "cell_type": "code",
   "execution_count": null,
   "metadata": {},
   "outputs": [],
   "source": []
  }
 ],
 "metadata": {
  "kernelspec": {
   "display_name": "Python 3",
   "language": "python",
   "name": "python3"
  },
  "language_info": {
   "codemirror_mode": {
    "name": "ipython",
    "version": 3
   },
   "file_extension": ".py",
   "mimetype": "text/x-python",
   "name": "python",
   "nbconvert_exporter": "python",
   "pygments_lexer": "ipython3",
   "version": "3.6.4"
  }
 },
 "nbformat": 4,
 "nbformat_minor": 2
}
